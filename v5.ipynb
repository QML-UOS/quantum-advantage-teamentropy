{
 "cells": [
  {
   "cell_type": "markdown",
   "metadata": {},
   "source": [
    "# Plotting Quantum Advantage for different classes of Algorithms"
   ]
  },
  {
   "cell_type": "code",
   "execution_count": 2,
   "metadata": {},
   "outputs": [],
   "source": [
    "import matplotlib.pylab as plt\n",
    "from mpl_toolkits.mplot3d import Axes3D\n",
    "import numpy as np"
   ]
  },
  {
   "cell_type": "markdown",
   "metadata": {},
   "source": [
    "Importing the requisite Libraries for plotting."
   ]
  },
  {
   "cell_type": "code",
   "execution_count": 3,
   "metadata": {},
   "outputs": [],
   "source": [
    "#initialize the N axis\n",
    "N = np.linspace(2,4000, 1000)\n",
    "\n",
    "quantum_comp = []\n",
    "classical_comp = []\n",
    "\n",
    "r1_comp = np.array\n",
    "r2_comp = np.array\n",
    "r3_comp = np.array\n",
    "r4_comp = np.array"
   ]
  },
  {
   "cell_type": "markdown",
   "metadata": {},
   "source": [
    "We then initialize the N axis for natural numbers from 1 to 10000.\n",
    "\n",
    "'quantum_comp' and 'classical_comp' are lists storing lists of values evaluated for the respective complexity functions for\n",
    "a given class of algorithms.\n",
    "\n",
    "Here, we depict the following classes:\n",
    "    1. Prime Factorization\n",
    "    2. Unstructured Search\n",
    "    3. Verifying Matrix Products\n",
    "    4. Formula Evaluation\n",
    "    5. Abelian Hidden Subgroup\n",
    "    6. Subset sum\n",
    "    7. Matrix Multiplication over Semirings\n",
    "    8. Deutsch-Jozsa "
   ]
  },
  {
   "cell_type": "markdown",
   "metadata": {},
   "source": [
    "1 For Prime Factorization:\n",
    "    1. Complexity order of Classical Algorithm: 2^((log N)(log(log N))\n",
    "    2. Complexity order of Quantum Algorithm: N^3"
   ]
  },
  {
   "cell_type": "code",
   "execution_count": 4,
   "metadata": {
    "scrolled": true
   },
   "outputs": [],
   "source": [
    "#1prime factorization\n",
    "classical_comp.append([2**((np.log(n))*(np.log(np.log(n)))) for n in N])\n",
    "quantum_comp.append([n**3 for n in N])"
   ]
  },
  {
   "cell_type": "markdown",
   "metadata": {},
   "source": [
    "2 For Unstructured Search:\n",
    "    1. Complexity order of Classical Algorithm: 2^n\n",
    "    2. Complexity order of Quantum Algorithm: 2^(n/2)"
   ]
  },
  {
   "cell_type": "code",
   "execution_count": 5,
   "metadata": {},
   "outputs": [
    {
     "name": "stderr",
     "output_type": "stream",
     "text": [
      "/opt/anaconda3/lib/python3.6/site-packages/ipykernel_launcher.py:2: RuntimeWarning: overflow encountered in double_scalars\n",
      "  \n",
      "/opt/anaconda3/lib/python3.6/site-packages/ipykernel_launcher.py:3: RuntimeWarning: overflow encountered in double_scalars\n",
      "  This is separate from the ipykernel package so we can avoid doing imports until\n"
     ]
    }
   ],
   "source": [
    "#2 unstructured search\n",
    "classical_comp.append([2**n for n in N])\n",
    "quantum_comp.append([2**(n/2) for n in N]) "
   ]
  },
  {
   "cell_type": "markdown",
   "metadata": {},
   "source": [
    "3 For Formula Evaluation:\n",
    "\n",
    "1. Complexity order of Classical Algorithm: n^2\n",
    "2. Complexity order of Quantum Algorithm: n^7/4"
   ]
  },
  {
   "cell_type": "code",
   "execution_count": 6,
   "metadata": {},
   "outputs": [],
   "source": [
    "#3.Verifying Matrix Products\n",
    "classical_comp.append([n**2 for n in N])\n",
    "quantum_comp.append([n**(7/4) for n in N]) "
   ]
  },
  {
   "cell_type": "markdown",
   "metadata": {},
   "source": [
    "4 For Formula Evaluation:\n",
    "    1. Complexity order of Quantum Algorithm: 2^0.5n\n",
    "    2. Complexity order of Classical Algorithm: 2^0.753n"
   ]
  },
  {
   "cell_type": "code",
   "execution_count": 7,
   "metadata": {},
   "outputs": [
    {
     "name": "stderr",
     "output_type": "stream",
     "text": [
      "/opt/anaconda3/lib/python3.6/site-packages/ipykernel_launcher.py:2: RuntimeWarning: overflow encountered in double_scalars\n",
      "  \n",
      "/opt/anaconda3/lib/python3.6/site-packages/ipykernel_launcher.py:3: RuntimeWarning: overflow encountered in double_scalars\n",
      "  This is separate from the ipykernel package so we can avoid doing imports until\n"
     ]
    }
   ],
   "source": [
    "#4Formula Evaluation\n",
    "quantum_comp.append([2**(0.5*n) for n in N])\n",
    "classical_comp.append([2**(0.753*n) for n in N])"
   ]
  },
  {
   "cell_type": "markdown",
   "metadata": {},
   "source": [
    "5 For Abelian Hidden Subgroup:\n",
    "    1. Complexity order of Quantum Algorithm: log(n)\n",
    "    2. Complexity order of Classical Algorithm: n"
   ]
  },
  {
   "cell_type": "code",
   "execution_count": 8,
   "metadata": {},
   "outputs": [],
   "source": [
    "#5Abelian Hidden Subgroup\n",
    "quantum_comp.append([np.log(n) for n in N])\n",
    "classical_comp.append([n for n in N])"
   ]
  },
  {
   "cell_type": "markdown",
   "metadata": {},
   "source": [
    "6 For Subset sum:\n",
    "    1. Complexity order of Classical Algorithm: 2^0.291n\n",
    "    2. Complexity order of Quantum Algorithm: 2^0.241n"
   ]
  },
  {
   "cell_type": "code",
   "execution_count": 9,
   "metadata": {},
   "outputs": [
    {
     "name": "stderr",
     "output_type": "stream",
     "text": [
      "/opt/anaconda3/lib/python3.6/site-packages/ipykernel_launcher.py:2: RuntimeWarning: overflow encountered in double_scalars\n",
      "  \n"
     ]
    }
   ],
   "source": [
    "#6Subset sum\n",
    "classical_comp.append([2**(0.291*n) for n in N])\n",
    "quantum_comp.append([2**(0.241*n) for n in N])"
   ]
  },
  {
   "cell_type": "markdown",
   "metadata": {},
   "source": [
    "7 For Matrix multiplication over semirings:\n",
    "    1. Complexity order of Classical Algorithm:n^2.687\n",
    "    2. Complexity order of Quantum Algorithm: n^2.473"
   ]
  },
  {
   "cell_type": "code",
   "execution_count": 10,
   "metadata": {},
   "outputs": [],
   "source": [
    "#7matrix multiplication over semirings\n",
    "classical_comp.append([n**(2.687) for n in N])\n",
    "quantum_comp.append([n**(2.473) for n in N])"
   ]
  },
  {
   "cell_type": "markdown",
   "metadata": {},
   "source": [
    "8 For Deutsch-Jozsa algorithm\n",
    "\n",
    "1. Complexity order of Classical Algorithm:2^(n-1)+1\n",
    "2. Complexity order of Quantum Algorithm: n"
   ]
  },
  {
   "cell_type": "code",
   "execution_count": 11,
   "metadata": {},
   "outputs": [
    {
     "name": "stderr",
     "output_type": "stream",
     "text": [
      "/opt/anaconda3/lib/python3.6/site-packages/ipykernel_launcher.py:2: RuntimeWarning: overflow encountered in double_scalars\n",
      "  \n"
     ]
    }
   ],
   "source": [
    "#8 Deutsch-Josza \n",
    "classical_comp.append([(2**(n-1))+1 for n in N])\n",
    "quantum_comp.append([n for n in N])"
   ]
  },
  {
   "cell_type": "markdown",
   "metadata": {},
   "source": [
    "9 For HHL algorithm vs gaussian elimination algorithm\n",
    "\n",
    "    Complexity order of Classical Algorithm: n^3\n",
    "    Complexity order of Quantum Algorithm: log(n)*k^2\n",
    "\n"
   ]
  },
  {
   "cell_type": "code",
   "execution_count": 12,
   "metadata": {},
   "outputs": [],
   "source": [
    "#9 \n",
    "classical_comp.append([n**3 for n in N]) #9 Gaussiuan elimination algoritm\n",
    "quantum_comp.append([(np.log(n))*(100) for n in N]) #9 HHL algorithm where k^2, with k=10 is 100"
   ]
  },
  {
   "cell_type": "code",
   "execution_count": 37,
   "metadata": {},
   "outputs": [],
   "source": [
    "algorithms = ['Prime_Factorization', 'Unstructured_Search', 'Matrix_products_Verification',\\\n",
    "              'Formula_Evaluation', 'Abelian_Hidden_Subgroup', 'Polynomial_Interpolation',\\\n",
    "              'Subset_sum', 'Matrix_multiplication_over_Semirings', 'Solving Linear Systems']"
   ]
  },
  {
   "cell_type": "code",
   "execution_count": 14,
   "metadata": {},
   "outputs": [
    {
     "name": "stderr",
     "output_type": "stream",
     "text": [
      "/opt/anaconda3/lib/python3.6/site-packages/ipykernel_launcher.py:1: RuntimeWarning: invalid value encountered in true_divide\n",
      "  \"\"\"Entry point for launching an IPython kernel.\n",
      "/opt/anaconda3/lib/python3.6/site-packages/ipykernel_launcher.py:2: RuntimeWarning: invalid value encountered in true_divide\n",
      "  \n",
      "/opt/anaconda3/lib/python3.6/site-packages/ipykernel_launcher.py:3: RuntimeWarning: invalid value encountered in true_divide\n",
      "  This is separate from the ipykernel package so we can avoid doing imports until\n",
      "/opt/anaconda3/lib/python3.6/site-packages/ipykernel_launcher.py:4: RuntimeWarning: invalid value encountered in true_divide\n",
      "  after removing the cwd from sys.path.\n"
     ]
    }
   ],
   "source": [
    "r1_comp = (np.array(quantum_comp)+np.array(classical_comp))/np.array(quantum_comp)\n",
    "r2_comp = np.array(classical_comp)/np.array(quantum_comp)\n",
    "r3_comp = (np.array(quantum_comp)+np.array(classical_comp))/np.array(classical_comp)\n",
    "r4_comp = np.array(quantum_comp)/np.array(classical_comp)\n",
    "plt.figure(figsize = (20,20))\n",
    "for i in range(1,10):\n",
    "    plt.subplot(3,3,i)\n",
    "    #for j in range(0,2):\n",
    "    plt.plot(N, classical_comp[i-1],label = 'Classical')\n",
    "    plt.plot(N, quantum_comp[i-1], label = 'Quantum')\n",
    "    #plt.plot(N, r1_comp[i-1],label = 'ratio')\n",
    "    #plt.plot(N, r2_comp[i-1],label = 'ratio')\n",
    "    #plt.plot(N, r3_comp[i-1],label = 'ratio')\n",
    "    #plt.plot(N, r4_comp[i-1],label = 'ratio')\n",
    "    plt.xlabel('Input size N')\n",
    "    plt.ylabel('Complexity Order O(n)')\n",
    "    plt.legend(loc = 'upper right')\n",
    "    plt.title(algorithms[i-1])\n",
    "    #plt.autoscale(True,True,True)\n",
    "\n",
    "plt.show()"
   ]
  },
  {
   "cell_type": "code",
   "execution_count": 41,
   "metadata": {},
   "outputs": [
    {
     "name": "stdout",
     "output_type": "stream",
     "text": [
      "Warning: Cannot change to a different GUI toolkit: notebook. Using qt instead.\n",
      "[[<matplotlib.lines.Line2D object at 0x7f3cc84ed710>], [<matplotlib.lines.Line2D object at 0x7f3cc84edd30>], [<matplotlib.lines.Line2D object at 0x7f3cc84eddd8>], [<matplotlib.lines.Line2D object at 0x7f3cc84d2908>], [<matplotlib.lines.Line2D object at 0x7f3cc84d2438>], [<matplotlib.lines.Line2D object at 0x7f3cc84d23c8>], [<matplotlib.lines.Line2D object at 0x7f3cc84d22b0>], [<matplotlib.lines.Line2D object at 0x7f3cc849f080>], [<matplotlib.lines.Line2D object at 0x7f3cc849f208>]]\n"
     ]
    }
   ],
   "source": [
    "%matplotlib notebook\n",
    "from matplotlib.widgets import CheckButtons\n",
    "\n",
    "#algorithms = algorithms[3:7]\n",
    "\n",
    "fig = plt.figure(figsize = (20,20))\n",
    "ax = fig.add_subplot(1,1,1)\n",
    "\n",
    "#fig, ax = plt.subplot()\n",
    "line_objects = []\n",
    "for i, algorithm in enumerate(algorithms):\n",
    "    \n",
    "    #plt.plot(N, r1_comp[i-1],label = 'ratio')\n",
    "    line_objects.append(ax.plot(N, r4_comp[i-1],label = algorithm))\n",
    "    #algorithm, = plt.plot(N, r3_comp[i-1],label = 'ratio')\n",
    "    #plt.plot(N, r4_comp[i-1],label = 'ratio')\n",
    "    \n",
    "    \n",
    "plt.xlabel('Sample Size')\n",
    "plt.ylabel('Ratio of Performance')\n",
    "plt.legend(loc = 'upper right')\n",
    "plt.title(\"Ratios of Performance for different algorithms\")\n",
    "plt.autoscale(True,True,True)\n",
    "ax.set_yscale(\"log\")\n",
    "\n",
    "\n",
    "rax = plt.axes([0.05, 0.4, 0.1, 0.15])\n",
    "check = CheckButtons(rax, algorithms, np.ones(10))\n",
    "def func(label):\n",
    "    \"\"\"if label == '':\n",
    "        l0.set_visible(not l0.get_visible())\n",
    "    elif label == '4 Hz':\n",
    "        l1.set_visible(not l1.get_visible())\n",
    "    elif label == '6 Hz':\n",
    "        l2.set_visible(not l2.get_visible())\n",
    "    \"\"\"\n",
    "    for i, algorithm in enumerate(algorithms):\n",
    "        if label == algorithm:\n",
    "            line_objects[i][0].set_visible(not line_objects[i][0].get_visible())\n",
    "    \n",
    "    ax.set_yscale(\"log\", nonposy='clip')\n",
    "    plt.draw()\n",
    "check.on_clicked(func)\n",
    "\n",
    "\n",
    "plt.show()\n",
    "\n",
    "print(line_objects)"
   ]
  },
  {
   "cell_type": "code",
   "execution_count": null,
   "metadata": {},
   "outputs": [],
   "source": []
  },
  {
   "cell_type": "code",
   "execution_count": null,
   "metadata": {},
   "outputs": [],
   "source": []
  }
 ],
 "metadata": {
  "kernelspec": {
   "display_name": "Python 3",
   "language": "python",
   "name": "python3"
  },
  "language_info": {
   "codemirror_mode": {
    "name": "ipython",
    "version": 3
   },
   "file_extension": ".py",
   "mimetype": "text/x-python",
   "name": "python",
   "nbconvert_exporter": "python",
   "pygments_lexer": "ipython3",
   "version": "3.6.5"
  }
 },
 "nbformat": 4,
 "nbformat_minor": 2
}
